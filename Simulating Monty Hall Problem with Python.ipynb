{
 "cells": [
  {
   "cell_type": "code",
   "execution_count": 1,
   "metadata": {},
   "outputs": [
    {
     "name": "stderr",
     "output_type": "stream",
     "text": [
      "C:\\Users\\admin\\anaconda3\\lib\\site-packages\\ipykernel_launcher.py:21: DeprecationWarning: This function is deprecated. Please call randint(0, 2 + 1) instead\n"
     ]
    },
    {
     "name": "stdout",
     "output_type": "stream",
     "text": [
      "Winning percentage without changing choice:  0.333513\n",
      "Winning percentage while changing choice:  0.666487\n"
     ]
    }
   ],
   "source": [
    "import random\n",
    "from random import seed, randint\n",
    "import numpy\n",
    "\n",
    "def game(winningdoor, selecteddoor, change=False):\n",
    "    assert winningdoor < 3\n",
    "    assert winningdoor >= 0\n",
    "\n",
    "    # Presenter removes the first door that was not selected neither winning\n",
    "    removeddoor = next(i for i in range(3) if i != selecteddoor and i != winningdoor)\n",
    "\n",
    "    # Player decides to change its choice\n",
    "    if change:\n",
    "        selecteddoor = next(i for i in range(3) if i != selecteddoor and i != removeddoor)\n",
    "\n",
    "    # We suppose the player never wants to change its initial choice.\n",
    "    return selecteddoor == winningdoor\n",
    "\n",
    "\n",
    "if __name__ == '__main__':\n",
    "    playerdoors = numpy.random.random_integers(0,2, (1000 * 1000 * 1,))\n",
    "\n",
    "    winningdoors = [d for d in playerdoors if game(1, d)]\n",
    "    print(\"Winning percentage without changing choice: \", len(winningdoors) / len(playerdoors))\n",
    "\n",
    "    winningdoors = [d for d in playerdoors if game(1, d, change=True)]\n",
    "    print(\"Winning percentage while changing choice: \", len(winningdoors) / len(playerdoors))"
   ]
  },
  {
   "cell_type": "code",
   "execution_count": null,
   "metadata": {},
   "outputs": [],
   "source": []
  }
 ],
 "metadata": {
  "kernelspec": {
   "display_name": "Python 3",
   "language": "python",
   "name": "python3"
  },
  "language_info": {
   "codemirror_mode": {
    "name": "ipython",
    "version": 3
   },
   "file_extension": ".py",
   "mimetype": "text/x-python",
   "name": "python",
   "nbconvert_exporter": "python",
   "pygments_lexer": "ipython3",
   "version": "3.7.1"
  }
 },
 "nbformat": 4,
 "nbformat_minor": 2
}
